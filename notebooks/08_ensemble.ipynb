{
  "nbformat": 4,
  "nbformat_minor": 0,
  "metadata": {
    "colab": {
      "provenance": [],
      "gpuType": "T4",
      "authorship_tag": "ABX9TyP+oDGMybfOTGSMtBd0bwd5",
      "include_colab_link": true
    },
    "kernelspec": {
      "name": "python3",
      "display_name": "Python 3"
    },
    "language_info": {
      "name": "python"
    },
    "accelerator": "GPU"
  },
  "cells": [
    {
      "cell_type": "markdown",
      "metadata": {
        "id": "view-in-github",
        "colab_type": "text"
      },
      "source": [
        "<a href=\"https://colab.research.google.com/github/jhackisneros/VISION_ARTIFICIAL/blob/main/08_ensemble.ipynb\" target=\"_parent\"><img src=\"https://colab.research.google.com/assets/colab-badge.svg\" alt=\"Open In Colab\"/></a>"
      ]
    },
    {
      "cell_type": "markdown",
      "source": [
        "# VISION_ARTIFICIAL - Notebook 08: Ensemble de modelos\n"
      ],
      "metadata": {
        "id": "mTSel9YdUCY2"
      }
    },
    {
      "cell_type": "markdown",
      "source": [
        "🔹 Importar librerías"
      ],
      "metadata": {
        "id": "HA4bormOUEju"
      }
    },
    {
      "cell_type": "code",
      "source": [
        "import numpy as np\n",
        "from tensorflow.keras.models import load_model\n",
        "from sklearn.metrics import accuracy_score\n",
        "import os\n"
      ],
      "metadata": {
        "id": "lel4LHvGUF7b"
      },
      "execution_count": null,
      "outputs": []
    },
    {
      "cell_type": "markdown",
      "source": [
        "🔹 Cargar datos de test"
      ],
      "metadata": {
        "id": "L1ZY7bnZUNHu"
      }
    },
    {
      "cell_type": "code",
      "source": [
        "processed_dir = \"../data/processed/\"\n",
        "x_test = np.load(os.path.join(processed_dir, \"x_test.npy\"))\n",
        "y_test = np.load(os.path.join(processed_dir, \"y_test.npy\"))"
      ],
      "metadata": {
        "id": "LbOu9_qsUOnl"
      },
      "execution_count": null,
      "outputs": []
    },
    {
      "cell_type": "markdown",
      "source": [
        "🔹 Lista de modelos del ensemble"
      ],
      "metadata": {
        "id": "od5M-d_hUSzr"
      }
    },
    {
      "cell_type": "code",
      "source": [
        "ensemble_models = [\n",
        "    \"../models/ensemble/cnn_v1.keras\",\n",
        "    \"../models/ensemble/cnn_v2.keras\",\n",
        "    \"../models/ensemble/cnn_v3.keras\"\n",
        "]\n"
      ],
      "metadata": {
        "id": "PcpyA-7yUT82"
      },
      "execution_count": null,
      "outputs": []
    },
    {
      "cell_type": "markdown",
      "source": [
        "🔹 Cargar modelos"
      ],
      "metadata": {
        "id": "fy5mylVsUVJ6"
      }
    },
    {
      "cell_type": "code",
      "source": [
        "models = [load_model(path) for path in ensemble_models]\n",
        "print(f\"✅ {len(models)} modelos cargados para el ensemble.\")"
      ],
      "metadata": {
        "colab": {
          "base_uri": "https://localhost:8080/",
          "height": 159
        },
        "id": "DYXuzeXoUWlg",
        "outputId": "c266153f-a5e6-4372-9150-8827d50a8159"
      },
      "execution_count": null,
      "outputs": [
        {
          "output_type": "error",
          "ename": "NameError",
          "evalue": "name 'load_model' is not defined",
          "traceback": [
            "\u001b[0;31m---------------------------------------------------------------------------\u001b[0m",
            "\u001b[0;31mNameError\u001b[0m                                 Traceback (most recent call last)",
            "\u001b[0;32m/tmp/ipython-input-1400923074.py\u001b[0m in \u001b[0;36m<cell line: 0>\u001b[0;34m()\u001b[0m\n\u001b[0;32m----> 1\u001b[0;31m \u001b[0mmodels\u001b[0m \u001b[0;34m=\u001b[0m \u001b[0;34m[\u001b[0m\u001b[0mload_model\u001b[0m\u001b[0;34m(\u001b[0m\u001b[0mpath\u001b[0m\u001b[0;34m)\u001b[0m \u001b[0;32mfor\u001b[0m \u001b[0mpath\u001b[0m \u001b[0;32min\u001b[0m \u001b[0mensemble_models\u001b[0m\u001b[0;34m]\u001b[0m\u001b[0;34m\u001b[0m\u001b[0;34m\u001b[0m\u001b[0m\n\u001b[0m\u001b[1;32m      2\u001b[0m \u001b[0mprint\u001b[0m\u001b[0;34m(\u001b[0m\u001b[0;34mf\"✅ {len(models)} modelos cargados para el ensemble.\"\u001b[0m\u001b[0;34m)\u001b[0m\u001b[0;34m\u001b[0m\u001b[0;34m\u001b[0m\u001b[0m\n",
            "\u001b[0;31mNameError\u001b[0m: name 'load_model' is not defined"
          ]
        }
      ]
    },
    {
      "cell_type": "markdown",
      "source": [
        "🔹 Predicción por votación promedio (soft voting)"
      ],
      "metadata": {
        "id": "f5Ag0sIdUYiE"
      }
    },
    {
      "cell_type": "code",
      "source": [
        "pred_probs = np.zeros((x_test.shape[0], 10))\n",
        "for model in models:\n",
        "    pred_probs += model.predict(x_test)\n",
        "pred_probs /= len(models)\n"
      ],
      "metadata": {
        "id": "iWHe6NswUa93"
      },
      "execution_count": null,
      "outputs": []
    },
    {
      "cell_type": "markdown",
      "source": [
        "🔹 Predicción final"
      ],
      "metadata": {
        "id": "htUcqLS7UcA0"
      }
    },
    {
      "cell_type": "code",
      "source": [
        "y_pred = np.argmax(pred_probs, axis=1)\n",
        "y_true = np.argmax(y_test, axis=1)"
      ],
      "metadata": {
        "colab": {
          "base_uri": "https://localhost:8080/",
          "height": 159
        },
        "id": "GqvlDK9TUdDz",
        "outputId": "9321f9ef-6712-4fe4-e5c7-65ced0b14f1f"
      },
      "execution_count": null,
      "outputs": [
        {
          "output_type": "error",
          "ename": "NameError",
          "evalue": "name 'np' is not defined",
          "traceback": [
            "\u001b[0;31m---------------------------------------------------------------------------\u001b[0m",
            "\u001b[0;31mNameError\u001b[0m                                 Traceback (most recent call last)",
            "\u001b[0;32m/tmp/ipython-input-3562535908.py\u001b[0m in \u001b[0;36m<cell line: 0>\u001b[0;34m()\u001b[0m\n\u001b[0;32m----> 1\u001b[0;31m \u001b[0my_pred\u001b[0m \u001b[0;34m=\u001b[0m \u001b[0mnp\u001b[0m\u001b[0;34m.\u001b[0m\u001b[0margmax\u001b[0m\u001b[0;34m(\u001b[0m\u001b[0mpred_probs\u001b[0m\u001b[0;34m,\u001b[0m \u001b[0maxis\u001b[0m\u001b[0;34m=\u001b[0m\u001b[0;36m1\u001b[0m\u001b[0;34m)\u001b[0m\u001b[0;34m\u001b[0m\u001b[0;34m\u001b[0m\u001b[0m\n\u001b[0m\u001b[1;32m      2\u001b[0m \u001b[0my_true\u001b[0m \u001b[0;34m=\u001b[0m \u001b[0mnp\u001b[0m\u001b[0;34m.\u001b[0m\u001b[0margmax\u001b[0m\u001b[0;34m(\u001b[0m\u001b[0my_test\u001b[0m\u001b[0;34m,\u001b[0m \u001b[0maxis\u001b[0m\u001b[0;34m=\u001b[0m\u001b[0;36m1\u001b[0m\u001b[0;34m)\u001b[0m\u001b[0;34m\u001b[0m\u001b[0;34m\u001b[0m\u001b[0m\n",
            "\u001b[0;31mNameError\u001b[0m: name 'np' is not defined"
          ]
        }
      ]
    },
    {
      "cell_type": "markdown",
      "source": [
        "🔹 Precisión del ensemble"
      ],
      "metadata": {
        "id": "xSFKwGS_UegB"
      }
    },
    {
      "cell_type": "code",
      "source": [
        "ensemble_acc = accuracy_score(y_true, y_pred)\n",
        "print(f\"\\n✅ Precisión del ensemble: {ensemble_acc*100:.2f}%\")"
      ],
      "metadata": {
        "id": "5c_RIkLyUgCz"
      },
      "execution_count": null,
      "outputs": []
    },
    {
      "cell_type": "markdown",
      "source": [
        "🔹 Guardar resultados del ensemble"
      ],
      "metadata": {
        "id": "A8oRYvuIUhKi"
      }
    },
    {
      "cell_type": "code",
      "source": [
        "os.makedirs(\"../experiments\", exist_ok=True)\n",
        "ensemble_results = np.column_stack((y_true, y_pred))\n",
        "np.savetxt(\"../experiments/results_ensemble.csv\", ensemble_results, delimiter=\",\",\n",
        "           header=\"y_true,y_pred\", comments='', fmt='%d')\n",
        "\n",
        "print(\"✅ Resultados del ensemble guardados en 'experiments/results_ensemble.csv'\")"
      ],
      "metadata": {
        "id": "GG1PqqyxUjGZ",
        "outputId": "05d7884c-76f9-4ee2-96c7-52f4195d7741",
        "colab": {
          "base_uri": "https://localhost:8080/",
          "height": 211
        }
      },
      "execution_count": null,
      "outputs": [
        {
          "output_type": "error",
          "ename": "NameError",
          "evalue": "name 'os' is not defined",
          "traceback": [
            "\u001b[0;31m---------------------------------------------------------------------------\u001b[0m",
            "\u001b[0;31mNameError\u001b[0m                                 Traceback (most recent call last)",
            "\u001b[0;32m/tmp/ipython-input-153808162.py\u001b[0m in \u001b[0;36m<cell line: 0>\u001b[0;34m()\u001b[0m\n\u001b[0;32m----> 1\u001b[0;31m \u001b[0mos\u001b[0m\u001b[0;34m.\u001b[0m\u001b[0mmakedirs\u001b[0m\u001b[0;34m(\u001b[0m\u001b[0;34m\"../experiments\"\u001b[0m\u001b[0;34m,\u001b[0m \u001b[0mexist_ok\u001b[0m\u001b[0;34m=\u001b[0m\u001b[0;32mTrue\u001b[0m\u001b[0;34m)\u001b[0m\u001b[0;34m\u001b[0m\u001b[0;34m\u001b[0m\u001b[0m\n\u001b[0m\u001b[1;32m      2\u001b[0m \u001b[0mensemble_results\u001b[0m \u001b[0;34m=\u001b[0m \u001b[0mnp\u001b[0m\u001b[0;34m.\u001b[0m\u001b[0mcolumn_stack\u001b[0m\u001b[0;34m(\u001b[0m\u001b[0;34m(\u001b[0m\u001b[0my_true\u001b[0m\u001b[0;34m,\u001b[0m \u001b[0my_pred\u001b[0m\u001b[0;34m)\u001b[0m\u001b[0;34m)\u001b[0m\u001b[0;34m\u001b[0m\u001b[0;34m\u001b[0m\u001b[0m\n\u001b[1;32m      3\u001b[0m np.savetxt(\"../experiments/results_ensemble.csv\", ensemble_results, delimiter=\",\", \n\u001b[1;32m      4\u001b[0m            header=\"y_true,y_pred\", comments='', fmt='%d')\n\u001b[1;32m      5\u001b[0m \u001b[0;34m\u001b[0m\u001b[0m\n",
            "\u001b[0;31mNameError\u001b[0m: name 'os' is not defined"
          ]
        }
      ]
    }
  ]
}