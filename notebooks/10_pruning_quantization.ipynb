{
  "nbformat": 4,
  "nbformat_minor": 0,
  "metadata": {
    "colab": {
      "provenance": [],
      "gpuType": "T4",
      "authorship_tag": "ABX9TyPfV1cS4s4AC7aidTKMoFXk",
      "include_colab_link": true
    },
    "kernelspec": {
      "name": "python3",
      "display_name": "Python 3"
    },
    "language_info": {
      "name": "python"
    },
    "accelerator": "GPU"
  },
  "cells": [
    {
      "cell_type": "markdown",
      "metadata": {
        "id": "view-in-github",
        "colab_type": "text"
      },
      "source": [
        "<a href=\"https://colab.research.google.com/github/jhackisneros/VISION_ARTIFICIAL/blob/main/10_pruning_quantization.ipynb\" target=\"_parent\"><img src=\"https://colab.research.google.com/assets/colab-badge.svg\" alt=\"Open In Colab\"/></a>"
      ]
    },
    {
      "cell_type": "markdown",
      "source": [
        "# VISION_ARTIFICIAL - Notebook 10: Pruning y Quantization"
      ],
      "metadata": {
        "id": "uEjkq-6TV6aC"
      }
    },
    {
      "cell_type": "markdown",
      "source": [
        "🔹 Importar librerías"
      ],
      "metadata": {
        "id": "yfWaQfayV8qr"
      }
    },
    {
      "cell_type": "code",
      "source": [
        "import tensorflow as tf\n",
        "from tensorflow import keras\n",
        "from tensorflow_model_optimization.sparsity import keras as sparsity\n",
        "import numpy as np\n",
        "import os"
      ],
      "metadata": {
        "id": "3hDeb54MWCjc"
      },
      "execution_count": null,
      "outputs": []
    },
    {
      "cell_type": "markdown",
      "source": [
        "🔹 Cargar datos procesados"
      ],
      "metadata": {
        "id": "4kmoZa7-WEIb"
      }
    },
    {
      "cell_type": "code",
      "source": [
        "processed_dir = \"../data/processed/\"\n",
        "x_train = np.load(os.path.join(processed_dir, \"x_train.npy\"))\n",
        "y_train = np.load(os.path.join(processed_dir, \"y_train.npy\"))\n",
        "x_test  = np.load(os.path.join(processed_dir, \"x_test.npy\"))\n",
        "y_test  = np.load(os.path.join(processed_dir, \"y_test.npy\"))\n"
      ],
      "metadata": {
        "id": "kMhFevXKWKov"
      },
      "execution_count": null,
      "outputs": []
    },
    {
      "cell_type": "markdown",
      "source": [
        "🔹 Cargar modelo original"
      ],
      "metadata": {
        "id": "soqDogWtWL3U"
      }
    },
    {
      "cell_type": "code",
      "source": [
        "model_path = \"../models/cnn_best.keras\"\n",
        "model = keras.models.load_model(model_path)\n",
        "model.summary()\n"
      ],
      "metadata": {
        "id": "OYbEk9iDWNCG"
      },
      "execution_count": null,
      "outputs": []
    },
    {
      "cell_type": "markdown",
      "source": [
        "🔹 Configurar pruning"
      ],
      "metadata": {
        "id": "ztMPzWJ-WOAF"
      }
    },
    {
      "cell_type": "code",
      "source": [
        "pruning_params = {\n",
        "    'pruning_schedule': sparsity.PolynomialDecay(initial_sparsity=0.0,\n",
        "                                                 final_sparsity=0.5,\n",
        "                                                 begin_step=0,\n",
        "                                                 end_step=np.ceil(len(x_train)/32).astype(np.int32)*10)\n",
        "}\n",
        "\n",
        "pruned_model = sparsity.prune_low_magnitude(model, **pruning_params)"
      ],
      "metadata": {
        "id": "RtBjHtYoWPQ7"
      },
      "execution_count": null,
      "outputs": []
    },
    {
      "cell_type": "markdown",
      "source": [
        "🔹 Compilar y entrenar modelo podado"
      ],
      "metadata": {
        "id": "IRn5r5laWQgC"
      }
    },
    {
      "cell_type": "code",
      "source": [
        "pruned_model.compile(optimizer='adam', loss='categorical_crossentropy', metrics=['accuracy'])\n",
        "callbacks = [sparsity.UpdatePruningStep()]\n",
        "\n",
        "pruned_model.fit(x_train, y_train,\n",
        "                 batch_size=32,\n",
        "                 epochs=10,\n",
        "                 validation_data=(x_test, y_test),\n",
        "                 callbacks=callbacks)"
      ],
      "metadata": {
        "id": "tHr9uYwtWg2O"
      },
      "execution_count": null,
      "outputs": []
    },
    {
      "cell_type": "markdown",
      "source": [
        "🔹 Strip pruning y guardar modelo podado"
      ],
      "metadata": {
        "id": "PrSvM1_-WoQP"
      }
    },
    {
      "cell_type": "code",
      "source": [
        "final_model = sparsity.strip_pruning(pruned_model)\n",
        "pruned_model_path = \"../models/cnn_pruned.keras\"\n",
        "final_model.save(pruned_model_path)\n",
        "print(f\"✅ Modelo podado guardado en '{pruned_model_path}'\")"
      ],
      "metadata": {
        "id": "3i9ZHig-Wqf4"
      },
      "execution_count": null,
      "outputs": []
    },
    {
      "cell_type": "markdown",
      "source": [
        "🔹 Quantization: convertir a TensorFlow Lite"
      ],
      "metadata": {
        "id": "gZyyERTdWrhY"
      }
    },
    {
      "cell_type": "code",
      "source": [
        "converter = tf.lite.TFLiteConverter.from_keras_model(final_model)\n",
        "converter.optimizations = [tf.lite.Optimize.DEFAULT]\n",
        "tflite_model = converter.convert()\n",
        "\n",
        "tflite_model_path = \"../models/cnn_pruned.tflite\"\n",
        "with open(tflite_model_path, \"wb\") as f:\n",
        "    f.write(tflite_model)\n",
        "\n",
        "print(f\"✅ Modelo quantizado guardado en '{tflite_model_path}'\")"
      ],
      "metadata": {
        "colab": {
          "base_uri": "https://localhost:8080/",
          "height": 211
        },
        "id": "GmMCbDXUWtCK",
        "outputId": "5303a794-457a-44f1-cfcc-dad80a3c4f51"
      },
      "execution_count": null,
      "outputs": [
        {
          "output_type": "error",
          "ename": "NameError",
          "evalue": "name 'tf' is not defined",
          "traceback": [
            "\u001b[0;31m---------------------------------------------------------------------------\u001b[0m",
            "\u001b[0;31mNameError\u001b[0m                                 Traceback (most recent call last)",
            "\u001b[0;32m/tmp/ipython-input-2231243954.py\u001b[0m in \u001b[0;36m<cell line: 0>\u001b[0;34m()\u001b[0m\n\u001b[0;32m----> 1\u001b[0;31m \u001b[0mconverter\u001b[0m \u001b[0;34m=\u001b[0m \u001b[0mtf\u001b[0m\u001b[0;34m.\u001b[0m\u001b[0mlite\u001b[0m\u001b[0;34m.\u001b[0m\u001b[0mTFLiteConverter\u001b[0m\u001b[0;34m.\u001b[0m\u001b[0mfrom_keras_model\u001b[0m\u001b[0;34m(\u001b[0m\u001b[0mfinal_model\u001b[0m\u001b[0;34m)\u001b[0m\u001b[0;34m\u001b[0m\u001b[0;34m\u001b[0m\u001b[0m\n\u001b[0m\u001b[1;32m      2\u001b[0m \u001b[0mconverter\u001b[0m\u001b[0;34m.\u001b[0m\u001b[0moptimizations\u001b[0m \u001b[0;34m=\u001b[0m \u001b[0;34m[\u001b[0m\u001b[0mtf\u001b[0m\u001b[0;34m.\u001b[0m\u001b[0mlite\u001b[0m\u001b[0;34m.\u001b[0m\u001b[0mOptimize\u001b[0m\u001b[0;34m.\u001b[0m\u001b[0mDEFAULT\u001b[0m\u001b[0;34m]\u001b[0m\u001b[0;34m\u001b[0m\u001b[0;34m\u001b[0m\u001b[0m\n\u001b[1;32m      3\u001b[0m \u001b[0mtflite_model\u001b[0m \u001b[0;34m=\u001b[0m \u001b[0mconverter\u001b[0m\u001b[0;34m.\u001b[0m\u001b[0mconvert\u001b[0m\u001b[0;34m(\u001b[0m\u001b[0;34m)\u001b[0m\u001b[0;34m\u001b[0m\u001b[0;34m\u001b[0m\u001b[0m\n\u001b[1;32m      4\u001b[0m \u001b[0;34m\u001b[0m\u001b[0m\n\u001b[1;32m      5\u001b[0m \u001b[0mtflite_model_path\u001b[0m \u001b[0;34m=\u001b[0m \u001b[0;34m\"../models/cnn_pruned.tflite\"\u001b[0m\u001b[0;34m\u001b[0m\u001b[0;34m\u001b[0m\u001b[0m\n",
            "\u001b[0;31mNameError\u001b[0m: name 'tf' is not defined"
          ]
        }
      ]
    }
  ]
}