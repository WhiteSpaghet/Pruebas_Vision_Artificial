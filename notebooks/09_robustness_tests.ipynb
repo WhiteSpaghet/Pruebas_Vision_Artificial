{
  "nbformat": 4,
  "nbformat_minor": 0,
  "metadata": {
    "colab": {
      "provenance": [],
      "gpuType": "T4",
      "authorship_tag": "ABX9TyP9U6QEcIaSmNioTqHOTVIB",
      "include_colab_link": true
    },
    "kernelspec": {
      "name": "python3",
      "display_name": "Python 3"
    },
    "language_info": {
      "name": "python"
    },
    "accelerator": "GPU"
  },
  "cells": [
    {
      "cell_type": "markdown",
      "metadata": {
        "id": "view-in-github",
        "colab_type": "text"
      },
      "source": [
        "<a href=\"https://colab.research.google.com/github/jhackisneros/VISION_ARTIFICIAL/blob/main/09_robustness_tests.ipynb\" target=\"_parent\"><img src=\"https://colab.research.google.com/assets/colab-badge.svg\" alt=\"Open In Colab\"/></a>"
      ]
    },
    {
      "cell_type": "markdown",
      "source": [
        "\n",
        "# VISION_ARTIFICIAL - Notebook 09: Robustez de modelos\n"
      ],
      "metadata": {
        "id": "69WeaOQQVGw0"
      }
    },
    {
      "cell_type": "markdown",
      "source": [
        "🔹 Importar librerías"
      ],
      "metadata": {
        "id": "9BCmfRVdVJ1h"
      }
    },
    {
      "cell_type": "code",
      "source": [
        "import numpy as np\n",
        "import matplotlib.pyplot as plt\n",
        "from tensorflow.keras.models import load_model\n",
        "from sklearn.metrics import accuracy_score\n",
        "import os\n",
        "from skimage.util import random_noise\n",
        "from skimage import exposure"
      ],
      "metadata": {
        "id": "k7Ho78aPVLCH"
      },
      "execution_count": null,
      "outputs": []
    },
    {
      "cell_type": "markdown",
      "source": [
        "🔹 Cargar datos de test"
      ],
      "metadata": {
        "id": "fsm-nZCSVL3H"
      }
    },
    {
      "cell_type": "code",
      "source": [
        "processed_dir = \"../data/processed/\"\n",
        "x_test = np.load(os.path.join(processed_dir, \"x_test.npy\"))\n",
        "y_test = np.load(os.path.join(processed_dir, \"y_test.npy\"))\n"
      ],
      "metadata": {
        "id": "R0XegS8sVNDd"
      },
      "execution_count": null,
      "outputs": []
    },
    {
      "cell_type": "markdown",
      "source": [
        "🔹 Lista de modelos del ensemble"
      ],
      "metadata": {
        "id": "yQVJ2OMxVOHm"
      }
    },
    {
      "cell_type": "code",
      "source": [
        "ensemble_models = [\n",
        "    \"../models/ensemble/cnn_v1.keras\",\n",
        "    \"../models/ensemble/cnn_v2.keras\",\n",
        "    \"../models/ensemble/cnn_v3.keras\"\n",
        "]\n"
      ],
      "metadata": {
        "id": "2WkomXX2VQRo"
      },
      "execution_count": null,
      "outputs": []
    },
    {
      "cell_type": "markdown",
      "source": [
        "🔹 Función para soft voting"
      ],
      "metadata": {
        "id": "bjTp_cyzVTsA"
      }
    },
    {
      "cell_type": "code",
      "source": [
        "def ensemble_predict(models, x):\n",
        "    pred_probs = np.zeros((x.shape[0], 10))\n",
        "    for model in models:\n",
        "        pred_probs += model.predict(x)\n",
        "    pred_probs /= len(models)\n",
        "    return np.argmax(pred_probs, axis=1)"
      ],
      "metadata": {
        "id": "bGu3mUSgVYyh"
      },
      "execution_count": null,
      "outputs": []
    },
    {
      "cell_type": "markdown",
      "source": [
        "🔹 Cargar modelos"
      ],
      "metadata": {
        "id": "qF2-j9Z3VbJS"
      }
    },
    {
      "cell_type": "code",
      "source": [
        "models = [load_model(path) for path in ensemble_models]"
      ],
      "metadata": {
        "id": "WPgAmMHfVcRI"
      },
      "execution_count": null,
      "outputs": []
    },
    {
      "cell_type": "markdown",
      "source": [
        " 🔹 Generar perturbaciones\n"
      ],
      "metadata": {
        "id": "ixVF7n50Vdex"
      }
    },
    {
      "cell_type": "code",
      "source": [
        "def add_gaussian_noise(images, var=0.01):\n",
        "    noisy = np.array([random_noise(img, mode='gaussian', var=var) for img in images])\n",
        "    return noisy\n",
        "\n",
        "def adjust_brightness(images, gamma=0.8):\n",
        "    bright = np.array([exposure.adjust_gamma(img, gamma) for img in images])\n",
        "    return bright\n"
      ],
      "metadata": {
        "id": "G3qjp_mQVf9s"
      },
      "execution_count": null,
      "outputs": []
    },
    {
      "cell_type": "markdown",
      "source": [
        "🔹 Probar robustez con ruido"
      ],
      "metadata": {
        "id": "vDO_7IU1VhGV"
      }
    },
    {
      "cell_type": "code",
      "source": [
        "x_test_noisy = add_gaussian_noise(x_test, var=0.02)\n",
        "y_pred_noisy = ensemble_predict(models, x_test_noisy)\n",
        "robust_acc_noisy = accuracy_score(np.argmax(y_test, axis=1), y_pred_noisy)\n",
        "print(f\"✅ Precisión con ruido gaussiano: {robust_acc_noisy*100:.2f}%\")"
      ],
      "metadata": {
        "id": "5ulaD66KVi0J"
      },
      "execution_count": null,
      "outputs": []
    },
    {
      "cell_type": "markdown",
      "source": [
        "🔹 Probar robustez con cambio de brillo"
      ],
      "metadata": {
        "id": "zxpAjhT5Vor0"
      }
    },
    {
      "cell_type": "code",
      "source": [
        "x_test_bright = adjust_brightness(x_test, gamma=0.5)\n",
        "y_pred_bright = ensemble_predict(models, x_test_bright)\n",
        "robust_acc_bright = accuracy_score(np.argmax(y_test, axis=1), y_pred_bright)\n",
        "print(f\"✅ Precisión con cambio de brillo: {robust_acc_bright*100:.2f}%\")"
      ],
      "metadata": {
        "id": "r_e2E0M-VqaK"
      },
      "execution_count": null,
      "outputs": []
    },
    {
      "cell_type": "markdown",
      "source": [
        "🔹 Guardar resultados"
      ],
      "metadata": {
        "id": "xgaF68CaVscd"
      }
    },
    {
      "cell_type": "code",
      "source": [
        "os.makedirs(\"../experiments\", exist_ok=True)\n",
        "robustness_scores = {\n",
        "    'accuracy_noisy': float(robust_acc_noisy),\n",
        "    'accuracy_brightness': float(robust_acc_bright)\n",
        "}\n",
        "\n",
        "import json\n",
        "with open(\"../experiments/robustness_scores.json\", \"w\") as f:\n",
        "    json.dump(robustness_scores, f, indent=4)\n",
        "\n",
        "print(\"✅ Resultados de robustez guardados en 'experiments/robustness_scores.json'\")"
      ],
      "metadata": {
        "id": "nTdvuWbFVvFB"
      },
      "execution_count": null,
      "outputs": []
    }
  ]
}