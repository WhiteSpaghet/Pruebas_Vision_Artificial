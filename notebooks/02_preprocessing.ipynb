{
  "nbformat": 4,
  "nbformat_minor": 0,
  "metadata": {
    "colab": {
      "provenance": [],
      "gpuType": "T4",
      "authorship_tag": "ABX9TyMIOmM6P/opynX4jGgXGb6H",
      "include_colab_link": true
    },
    "kernelspec": {
      "name": "python3",
      "display_name": "Python 3"
    },
    "language_info": {
      "name": "python"
    },
    "accelerator": "GPU"
  },
  "cells": [
    {
      "cell_type": "markdown",
      "metadata": {
        "id": "view-in-github",
        "colab_type": "text"
      },
      "source": [
        "<a href=\"https://colab.research.google.com/github/jhackisneros/VISION_ARTIFICIAL/blob/main/02_preprocessing.ipynb\" target=\"_parent\"><img src=\"https://colab.research.google.com/assets/colab-badge.svg\" alt=\"Open In Colab\"/></a>"
      ]
    },
    {
      "cell_type": "markdown",
      "source": [
        "# VISION_ARTIFICIAL - Notebook 02: Preprocesamiento del dataset CIFAR-10"
      ],
      "metadata": {
        "id": "FVbx2EJZ_tX8"
      }
    },
    {
      "cell_type": "markdown",
      "source": [
        "🔹 Importar librerías"
      ],
      "metadata": {
        "id": "TdM8uHKL_v9p"
      }
    },
    {
      "cell_type": "code",
      "source": [
        "import numpy as np\n",
        "from tensorflow.keras.datasets import cifar10\n",
        "from tensorflow.keras.utils import to_categorical\n",
        "import os"
      ],
      "metadata": {
        "id": "-Nt72hse_xro"
      },
      "execution_count": null,
      "outputs": []
    },
    {
      "cell_type": "markdown",
      "source": [
        "🔹 Carpeta para guardar datos procesados"
      ],
      "metadata": {
        "id": "IgQ1wn-FAIxO"
      }
    },
    {
      "cell_type": "code",
      "source": [
        "processed_dir = \"../data/processed/\"\n",
        "os.makedirs(processed_dir, exist_ok=True)"
      ],
      "metadata": {
        "id": "v-xr4O-nAK8n"
      },
      "execution_count": null,
      "outputs": []
    },
    {
      "cell_type": "markdown",
      "source": [
        "🔹 Cargar CIFAR-10"
      ],
      "metadata": {
        "id": "ZR037otyANhn"
      }
    },
    {
      "cell_type": "code",
      "source": [
        "(x_train, y_train), (x_test, y_test) = cifar10.load_data()"
      ],
      "metadata": {
        "colab": {
          "base_uri": "https://localhost:8080/"
        },
        "id": "7we_lc1yAPRP",
        "outputId": "bd23592b-a7a0-4609-f60b-1fa60991596a"
      },
      "execution_count": null,
      "outputs": [
        {
          "output_type": "stream",
          "name": "stdout",
          "text": [
            "Downloading data from https://www.cs.toronto.edu/~kriz/cifar-10-python.tar.gz\n",
            "\u001b[1m170498071/170498071\u001b[0m \u001b[32m━━━━━━━━━━━━━━━━━━━━\u001b[0m\u001b[37m\u001b[0m \u001b[1m5s\u001b[0m 0us/step\n"
          ]
        }
      ]
    },
    {
      "cell_type": "markdown",
      "source": [
        " 🔹 Normalización de píxeles a rango [0,1]\n"
      ],
      "metadata": {
        "id": "qoyDq9kgATHX"
      }
    },
    {
      "cell_type": "code",
      "source": [
        "x_train = x_train.astype(\"float32\") / 255.0\n",
        "x_test  = x_test.astype(\"float32\") / 255.0"
      ],
      "metadata": {
        "id": "Au27HUjgAVD4"
      },
      "execution_count": null,
      "outputs": []
    },
    {
      "cell_type": "markdown",
      "source": [
        "🔹 One-hot encoding de etiquetas"
      ],
      "metadata": {
        "id": "OYHkmqWLAXeX"
      }
    },
    {
      "cell_type": "code",
      "source": [
        "y_train_cat = to_categorical(y_train, num_classes=10)\n",
        "y_test_cat  = to_categorical(y_test, num_classes=10)\n"
      ],
      "metadata": {
        "id": "UYWRNcoBAZXh"
      },
      "execution_count": null,
      "outputs": []
    },
    {
      "cell_type": "markdown",
      "source": [
        "🔹 Guardar los datos procesados"
      ],
      "metadata": {
        "id": "vn6JfB_oAbsd"
      }
    },
    {
      "cell_type": "code",
      "source": [
        "np.save(os.path.join(processed_dir, \"x_train.npy\"), x_train)\n",
        "np.save(os.path.join(processed_dir, \"y_train.npy\"), y_train_cat)\n",
        "np.save(os.path.join(processed_dir, \"x_test.npy\"), x_test)\n",
        "np.save(os.path.join(processed_dir, \"y_test.npy\"), y_test_cat)"
      ],
      "metadata": {
        "id": "DfJj7Vo9AdOY"
      },
      "execution_count": null,
      "outputs": []
    },
    {
      "cell_type": "markdown",
      "source": [
        "🔹 Confirmación de shapes"
      ],
      "metadata": {
        "id": "fWbg5nmgAsqi"
      }
    },
    {
      "cell_type": "code",
      "source": [
        "print(\"x_train:\", x_train.shape)\n",
        "print(\"y_train:\", y_train_cat.shape)\n",
        "print(\"x_test:\", x_test.shape)\n",
        "print(\"y_test:\", y_test_cat.shape)"
      ],
      "metadata": {
        "id": "-_OkaKXZAuAO",
        "outputId": "52f3b987-2a92-478c-ea65-25cf34757971",
        "colab": {
          "base_uri": "https://localhost:8080/"
        }
      },
      "execution_count": null,
      "outputs": [
        {
          "output_type": "stream",
          "name": "stdout",
          "text": [
            "x_train: (50000, 32, 32, 3)\n",
            "y_train: (50000, 10)\n",
            "x_test: (10000, 32, 32, 3)\n",
            "y_test: (10000, 10)\n"
          ]
        }
      ]
    }
  ]
}