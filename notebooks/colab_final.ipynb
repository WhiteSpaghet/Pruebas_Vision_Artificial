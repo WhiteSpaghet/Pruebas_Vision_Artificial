{
  "nbformat": 4,
  "nbformat_minor": 0,
  "metadata": {
    "colab": {
      "provenance": [],
      "gpuType": "T4",
      "authorship_tag": "ABX9TyPNCq8bKtfHhyDDJkaSUhcL",
      "include_colab_link": true
    },
    "kernelspec": {
      "name": "python3",
      "display_name": "Python 3"
    },
    "language_info": {
      "name": "python"
    },
    "accelerator": "GPU"
  },
  "cells": [
    {
      "cell_type": "markdown",
      "metadata": {
        "id": "view-in-github",
        "colab_type": "text"
      },
      "source": [
        "<a href=\"https://colab.research.google.com/github/jhackisneros/VISION_ARTIFICIAL/blob/main/colab_final.ipynb\" target=\"_parent\"><img src=\"https://colab.research.google.com/assets/colab-badge.svg\" alt=\"Open In Colab\"/></a>"
      ]
    },
    {
      "cell_type": "markdown",
      "source": [
        "# VISION_ARTIFICIAL - Notebook Final Integrado"
      ],
      "metadata": {
        "id": "3SYbChBWYNK9"
      }
    },
    {
      "cell_type": "markdown",
      "source": [
        "🔹 Importar librerías"
      ],
      "metadata": {
        "id": "sJ7XRe2kYOnr"
      }
    },
    {
      "cell_type": "code",
      "source": [
        "import numpy as np\n",
        "import matplotlib.pyplot as plt\n",
        "import tensorflow as tf\n",
        "from tensorflow.keras.models import Sequential, load_model\n",
        "from tensorflow.keras.layers import Dense, Flatten, Conv2D, MaxPooling2D\n",
        "from tensorflow.keras.optimizers import Adam\n",
        "from tensorflow.keras.utils import to_categorical\n",
        "from sklearn.metrics import accuracy_score, confusion_matrix, ConfusionMatrixDisplay\n",
        "from skimage.util import random_noise\n",
        "from skimage import exposure\n",
        "import os\n"
      ],
      "metadata": {
        "id": "aZ0YabmkYP4_"
      },
      "execution_count": null,
      "outputs": []
    },
    {
      "cell_type": "markdown",
      "source": [
        "🔹 Configuración de reproducibilidad"
      ],
      "metadata": {
        "id": "7quFHyKoYRhi"
      }
    },
    {
      "cell_type": "code",
      "source": [
        "tf.random.set_seed(42)\n",
        "np.random.seed(42)\n",
        "try:\n",
        "    tf.config.experimental.enable_op_determinism(True)\n",
        "except:\n",
        "    pass\n"
      ],
      "metadata": {
        "id": "D9IB2V74YSuG"
      },
      "execution_count": null,
      "outputs": []
    },
    {
      "cell_type": "markdown",
      "source": [
        "🔹 Crear carpetas necesarias"
      ],
      "metadata": {
        "id": "kJXqEAmdYTzR"
      }
    },
    {
      "cell_type": "code",
      "source": [
        "os.makedirs(\"../data/processed\", exist_ok=True)\n",
        "os.makedirs(\"../models/ensemble\", exist_ok=True)\n",
        "os.makedirs(\"../experiments\", exist_ok=True)\n"
      ],
      "metadata": {
        "id": "SmbCAGgmYVA6"
      },
      "execution_count": null,
      "outputs": []
    },
    {
      "cell_type": "markdown",
      "source": [
        "# CARGA Y PREPROCESAMIENTO"
      ],
      "metadata": {
        "id": "iGdb8gcRYXZH"
      }
    },
    {
      "cell_type": "code",
      "source": [
        "from tensorflow.keras.datasets import cifar10\n",
        "\n",
        "(x_train, y_train), (x_test, y_test) = cifar10.load_data()\n",
        "x_train = x_train.astype(\"float32\")/255.0\n",
        "x_test  = x_test.astype(\"float32\")/255.0\n",
        "y_train = to_categorical(y_train, 10)\n",
        "y_test  = to_categorical(y_test, 10)"
      ],
      "metadata": {
        "id": "m4qJlO2jYayN"
      },
      "execution_count": null,
      "outputs": []
    },
    {
      "cell_type": "markdown",
      "source": [
        "# Guardar procesados para otros notebooks"
      ],
      "metadata": {
        "id": "N2HMp4YXYdZe"
      }
    },
    {
      "cell_type": "code",
      "source": [
        "np.save(\"../data/processed/x_train.npy\", x_train)\n",
        "np.save(\"../data/processed/y_train.npy\", y_train)\n",
        "np.save(\"../data/processed/x_test.npy\", x_test)\n",
        "np.save(\"../data/processed/y_test.npy\", y_test)"
      ],
      "metadata": {
        "id": "JOK3wr1sYfmc"
      },
      "execution_count": null,
      "outputs": []
    },
    {
      "cell_type": "markdown",
      "source": [
        "# CONSTRUCCIÓN CNN"
      ],
      "metadata": {
        "id": "l1AoDNY9Ygyu"
      }
    },
    {
      "cell_type": "code",
      "source": [
        "cnn = Sequential([\n",
        "    Conv2D(32, (3,3), activation='relu', padding='same', input_shape=(32,32,3)),\n",
        "    MaxPooling2D((2,2)),\n",
        "    Conv2D(64, (3,3), activation='relu', padding='same'),\n",
        "    MaxPooling2D((2,2)),\n",
        "    Flatten(),\n",
        "    Dense(64, activation='relu'),\n",
        "    Dense(10, activation='softmax')\n",
        "])\n",
        "\n",
        "cnn.compile(optimizer=Adam(), loss='categorical_crossentropy', metrics=['accuracy'])"
      ],
      "metadata": {
        "id": "1Yv83XJiYmMv"
      },
      "execution_count": null,
      "outputs": []
    },
    {
      "cell_type": "markdown",
      "source": [
        " # ENTRENAMIENTO"
      ],
      "metadata": {
        "id": "MzhkMsrhYn9j"
      }
    },
    {
      "cell_type": "code",
      "source": [
        "history = cnn.fit(x_train, y_train, validation_data=(x_test, y_test),\n",
        "                  epochs=10, batch_size=64)\n",
        "\n",
        "# Guardar modelo\n",
        "cnn.save(\"../models/cnn_best.keras\")"
      ],
      "metadata": {
        "id": "db3SG8dDYq5b"
      },
      "execution_count": null,
      "outputs": []
    },
    {
      "cell_type": "markdown",
      "source": [
        "# ENSEMBLE SIMPLIFICADO"
      ],
      "metadata": {
        "id": "xbIpcyCrYttb"
      }
    },
    {
      "cell_type": "code",
      "source": [
        "# Para ejemplo final, clonamos el mismo modelo 3 veces\n",
        "ensemble_models = [load_model(\"../models/cnn_best.keras\") for _ in range(3)]\n",
        "\n",
        "def ensemble_predict(models, x):\n",
        "    pred_probs = np.zeros((x.shape[0], 10))\n",
        "    for model in models:\n",
        "        pred_probs += model.predict(x)\n",
        "    pred_probs /= len(models)\n",
        "    return np.argmax(pred_probs, axis=1)\n",
        "\n",
        "y_pred_ensemble = ensemble_predict(ensemble_models, x_test)\n",
        "acc_ensemble = accuracy_score(np.argmax(y_test, axis=1), y_pred_ensemble)\n",
        "print(f\"✅ Accuracy ensemble: {acc_ensemble*100:.2f}%\")\n"
      ],
      "metadata": {
        "id": "O92AQ6c-YxTQ"
      },
      "execution_count": null,
      "outputs": []
    },
    {
      "cell_type": "markdown",
      "source": [
        "# ROBUSTEZ"
      ],
      "metadata": {
        "id": "-tsGBXElZgfn"
      }
    },
    {
      "cell_type": "code",
      "source": [
        "# Ruido gaussiano\n",
        "x_test_noisy = np.array([random_noise(img, mode='gaussian', var=0.02) for img in x_test])\n",
        "acc_noisy = accuracy_score(np.argmax(y_test, axis=1), ensemble_predict(ensemble_models, x_test_noisy))\n",
        "\n",
        "# Cambio de brillo\n",
        "x_test_bright = np.array([exposure.adjust_gamma(img, gamma=0.5) for img in x_test])\n",
        "acc_bright = accuracy_score(np.argmax(y_test, axis=1), ensemble_predict(ensemble_models, x_test_bright))\n",
        "\n",
        "print(f\"✅ Accuracy con ruido: {acc_noisy*100:.2f}%\")\n",
        "print(f\"✅ Accuracy con brillo: {acc_bright*100:.2f}%\")"
      ],
      "metadata": {
        "id": "oH0_WcBxZkpW"
      },
      "execution_count": null,
      "outputs": []
    },
    {
      "cell_type": "markdown",
      "source": [
        "# EXPLAINABILITY - GRAD-CAM"
      ],
      "metadata": {
        "id": "mnZX3lXwZmfC"
      }
    },
    {
      "cell_type": "code",
      "source": [
        "def get_gradcam(img_array, model, layer_name=\"conv2d_1\"):\n",
        "    grad_model = tf.keras.models.Model(\n",
        "        [model.inputs], [model.get_layer(layer_name).output, model.output]\n",
        "    )\n",
        "    with tf.GradientTape() as tape:\n",
        "        conv_outputs, predictions = grad_model(img_array)\n",
        "        class_idx = np.argmax(predictions[0])\n",
        "        loss = predictions[:, class_idx]\n",
        "\n",
        "    grads = tape.gradient(loss, conv_outputs)\n",
        "    pooled_grads = tf.reduce_mean(grads, axis=(0, 1, 2))\n",
        "    conv_outputs = conv_outputs[0]\n",
        "    heatmap = conv_outputs @ pooled_grads[..., tf.newaxis]\n",
        "    heatmap = tf.squeeze(heatmap)\n",
        "    heatmap = np.maximum(heatmap, 0) / (np.max(heatmap) + 1e-8)\n",
        "    return heatmap, class_idx\n",
        "\n",
        "def display_gradcam(img, heatmap, alpha=0.4):\n",
        "    import cv2\n",
        "    heatmap = cv2.resize(heatmap.numpy(), (img.shape[1], img.shape[0]))\n",
        "    heatmap = np.uint8(255 * heatmap)\n",
        "    heatmap = cv2.applyColorMap(heatmap, cv2.COLORMAP_JET)\n",
        "    superimposed_img = heatmap * alpha + np.uint8(img*255)\n",
        "    plt.imshow(superimposed_img.astype(np.uint8))\n",
        "    plt.axis('off')\n",
        "    plt.show()\n",
        "\n",
        "    # Ejemplo Grad-CAM\n",
        "img = x_test[0][np.newaxis,...]\n",
        "heatmap, class_idx = get_gradcam(img, cnn, layer_name=\"conv2d_1\")\n",
        "print(f\"Predicción clase: {class_idx}\")\n",
        "display_gradcam(x_test[0], heatmap)"
      ],
      "metadata": {
        "colab": {
          "base_uri": "https://localhost:8080/",
          "height": 211
        },
        "id": "E3ElwAXHZp-x",
        "outputId": "573decff-a387-481b-ae4b-6830ac0b35ed"
      },
      "execution_count": null,
      "outputs": [
        {
          "output_type": "error",
          "ename": "NameError",
          "evalue": "name 'x_test' is not defined",
          "traceback": [
            "\u001b[0;31m---------------------------------------------------------------------------\u001b[0m",
            "\u001b[0;31mNameError\u001b[0m                                 Traceback (most recent call last)",
            "\u001b[0;32m/tmp/ipython-input-1920505975.py\u001b[0m in \u001b[0;36m<cell line: 0>\u001b[0;34m()\u001b[0m\n\u001b[1;32m     27\u001b[0m \u001b[0;34m\u001b[0m\u001b[0m\n\u001b[1;32m     28\u001b[0m     \u001b[0;31m# Ejemplo Grad-CAM\u001b[0m\u001b[0;34m\u001b[0m\u001b[0;34m\u001b[0m\u001b[0m\n\u001b[0;32m---> 29\u001b[0;31m \u001b[0mimg\u001b[0m \u001b[0;34m=\u001b[0m \u001b[0mx_test\u001b[0m\u001b[0;34m[\u001b[0m\u001b[0;36m0\u001b[0m\u001b[0;34m]\u001b[0m\u001b[0;34m[\u001b[0m\u001b[0mnp\u001b[0m\u001b[0;34m.\u001b[0m\u001b[0mnewaxis\u001b[0m\u001b[0;34m,\u001b[0m\u001b[0;34m...\u001b[0m\u001b[0;34m]\u001b[0m\u001b[0;34m\u001b[0m\u001b[0;34m\u001b[0m\u001b[0m\n\u001b[0m\u001b[1;32m     30\u001b[0m \u001b[0mheatmap\u001b[0m\u001b[0;34m,\u001b[0m \u001b[0mclass_idx\u001b[0m \u001b[0;34m=\u001b[0m \u001b[0mget_gradcam\u001b[0m\u001b[0;34m(\u001b[0m\u001b[0mimg\u001b[0m\u001b[0;34m,\u001b[0m \u001b[0mcnn\u001b[0m\u001b[0;34m,\u001b[0m \u001b[0mlayer_name\u001b[0m\u001b[0;34m=\u001b[0m\u001b[0;34m\"conv2d_1\"\u001b[0m\u001b[0;34m)\u001b[0m\u001b[0;34m\u001b[0m\u001b[0;34m\u001b[0m\u001b[0m\n\u001b[1;32m     31\u001b[0m \u001b[0mprint\u001b[0m\u001b[0;34m(\u001b[0m\u001b[0;34mf\"Predicción clase: {class_idx}\"\u001b[0m\u001b[0;34m)\u001b[0m\u001b[0;34m\u001b[0m\u001b[0;34m\u001b[0m\u001b[0m\n",
            "\u001b[0;31mNameError\u001b[0m: name 'x_test' is not defined"
          ]
        }
      ]
    }
  ]
}