{
  "nbformat": 4,
  "nbformat_minor": 0,
  "metadata": {
    "colab": {
      "provenance": [],
      "gpuType": "T4",
      "authorship_tag": "ABX9TyMWHrfPTNqwq1mt5jqNeWE0",
      "include_colab_link": true
    },
    "kernelspec": {
      "name": "python3",
      "display_name": "Python 3"
    },
    "language_info": {
      "name": "python"
    },
    "accelerator": "GPU"
  },
  "cells": [
    {
      "cell_type": "markdown",
      "metadata": {
        "id": "view-in-github",
        "colab_type": "text"
      },
      "source": [
        "<a href=\"https://colab.research.google.com/github/jhackisneros/VISION_ARTIFICIAL/blob/main/07_hyperparam_search.ipynb\" target=\"_parent\"><img src=\"https://colab.research.google.com/assets/colab-badge.svg\" alt=\"Open In Colab\"/></a>"
      ]
    },
    {
      "cell_type": "markdown",
      "source": [
        "# VISION_ARTIFICIAL - Notebook 07: Búsqueda de hiperparámetros"
      ],
      "metadata": {
        "id": "RB09QLZKTel2"
      }
    },
    {
      "cell_type": "markdown",
      "source": [
        "🔹 Importar librerías"
      ],
      "metadata": {
        "id": "rL3Y0xXaTgPZ"
      }
    },
    {
      "cell_type": "code",
      "source": [
        "import numpy as np\n",
        "from tensorflow.keras.models import Sequential\n",
        "from tensorflow.keras.layers import Conv2D, MaxPooling2D, Flatten, Dense, Dropout\n",
        "from tensorflow.keras.optimizers import Adam, RMSprop\n",
        "from tensorflow.keras.datasets import cifar10\n",
        "from tensorflow.keras.utils import to_categorical\n",
        "from sklearn.model_selection import ParameterGrid\n",
        "import json, os"
      ],
      "metadata": {
        "id": "-1SdI-QaThgX"
      },
      "execution_count": null,
      "outputs": []
    },
    {
      "cell_type": "markdown",
      "source": [
        "🔹 Cargar datos procesados"
      ],
      "metadata": {
        "id": "VUs8VFpkTi-1"
      }
    },
    {
      "cell_type": "code",
      "source": [
        "processed_dir = \"../data/processed/\"\n",
        "x_train = np.load(processed_dir + \"x_train.npy\")\n",
        "y_train = np.load(processed_dir + \"y_train.npy\")\n",
        "x_test  = np.load(processed_dir + \"x_test.npy\")\n",
        "y_test  = np.load(processed_dir + \"y_test.npy\")\n"
      ],
      "metadata": {
        "colab": {
          "base_uri": "https://localhost:8080/",
          "height": 349
        },
        "id": "-2Z8QHBcTk0R",
        "outputId": "5fbc32bd-f4ef-4c74-e416-ba4b63e367f6"
      },
      "execution_count": null,
      "outputs": [
        {
          "output_type": "error",
          "ename": "FileNotFoundError",
          "evalue": "[Errno 2] No such file or directory: '../data/processed/x_train.npy'",
          "traceback": [
            "\u001b[0;31m---------------------------------------------------------------------------\u001b[0m",
            "\u001b[0;31mFileNotFoundError\u001b[0m                         Traceback (most recent call last)",
            "\u001b[0;32m/tmp/ipython-input-741420491.py\u001b[0m in \u001b[0;36m<cell line: 0>\u001b[0;34m()\u001b[0m\n\u001b[1;32m      1\u001b[0m \u001b[0mprocessed_dir\u001b[0m \u001b[0;34m=\u001b[0m \u001b[0;34m\"../data/processed/\"\u001b[0m\u001b[0;34m\u001b[0m\u001b[0;34m\u001b[0m\u001b[0m\n\u001b[0;32m----> 2\u001b[0;31m \u001b[0mx_train\u001b[0m \u001b[0;34m=\u001b[0m \u001b[0mnp\u001b[0m\u001b[0;34m.\u001b[0m\u001b[0mload\u001b[0m\u001b[0;34m(\u001b[0m\u001b[0mprocessed_dir\u001b[0m \u001b[0;34m+\u001b[0m \u001b[0;34m\"x_train.npy\"\u001b[0m\u001b[0;34m)\u001b[0m\u001b[0;34m\u001b[0m\u001b[0;34m\u001b[0m\u001b[0m\n\u001b[0m\u001b[1;32m      3\u001b[0m \u001b[0my_train\u001b[0m \u001b[0;34m=\u001b[0m \u001b[0mnp\u001b[0m\u001b[0;34m.\u001b[0m\u001b[0mload\u001b[0m\u001b[0;34m(\u001b[0m\u001b[0mprocessed_dir\u001b[0m \u001b[0;34m+\u001b[0m \u001b[0;34m\"y_train.npy\"\u001b[0m\u001b[0;34m)\u001b[0m\u001b[0;34m\u001b[0m\u001b[0;34m\u001b[0m\u001b[0m\n\u001b[1;32m      4\u001b[0m \u001b[0mx_test\u001b[0m  \u001b[0;34m=\u001b[0m \u001b[0mnp\u001b[0m\u001b[0;34m.\u001b[0m\u001b[0mload\u001b[0m\u001b[0;34m(\u001b[0m\u001b[0mprocessed_dir\u001b[0m \u001b[0;34m+\u001b[0m \u001b[0;34m\"x_test.npy\"\u001b[0m\u001b[0;34m)\u001b[0m\u001b[0;34m\u001b[0m\u001b[0;34m\u001b[0m\u001b[0m\n\u001b[1;32m      5\u001b[0m \u001b[0my_test\u001b[0m  \u001b[0;34m=\u001b[0m \u001b[0mnp\u001b[0m\u001b[0;34m.\u001b[0m\u001b[0mload\u001b[0m\u001b[0;34m(\u001b[0m\u001b[0mprocessed_dir\u001b[0m \u001b[0;34m+\u001b[0m \u001b[0;34m\"y_test.npy\"\u001b[0m\u001b[0;34m)\u001b[0m\u001b[0;34m\u001b[0m\u001b[0;34m\u001b[0m\u001b[0m\n",
            "\u001b[0;32m/usr/local/lib/python3.12/dist-packages/numpy/lib/_npyio_impl.py\u001b[0m in \u001b[0;36mload\u001b[0;34m(file, mmap_mode, allow_pickle, fix_imports, encoding, max_header_size)\u001b[0m\n\u001b[1;32m    453\u001b[0m             \u001b[0mown_fid\u001b[0m \u001b[0;34m=\u001b[0m \u001b[0;32mFalse\u001b[0m\u001b[0;34m\u001b[0m\u001b[0;34m\u001b[0m\u001b[0m\n\u001b[1;32m    454\u001b[0m         \u001b[0;32melse\u001b[0m\u001b[0;34m:\u001b[0m\u001b[0;34m\u001b[0m\u001b[0;34m\u001b[0m\u001b[0m\n\u001b[0;32m--> 455\u001b[0;31m             \u001b[0mfid\u001b[0m \u001b[0;34m=\u001b[0m \u001b[0mstack\u001b[0m\u001b[0;34m.\u001b[0m\u001b[0menter_context\u001b[0m\u001b[0;34m(\u001b[0m\u001b[0mopen\u001b[0m\u001b[0;34m(\u001b[0m\u001b[0mos\u001b[0m\u001b[0;34m.\u001b[0m\u001b[0mfspath\u001b[0m\u001b[0;34m(\u001b[0m\u001b[0mfile\u001b[0m\u001b[0;34m)\u001b[0m\u001b[0;34m,\u001b[0m \u001b[0;34m\"rb\"\u001b[0m\u001b[0;34m)\u001b[0m\u001b[0;34m)\u001b[0m\u001b[0;34m\u001b[0m\u001b[0;34m\u001b[0m\u001b[0m\n\u001b[0m\u001b[1;32m    456\u001b[0m             \u001b[0mown_fid\u001b[0m \u001b[0;34m=\u001b[0m \u001b[0;32mTrue\u001b[0m\u001b[0;34m\u001b[0m\u001b[0;34m\u001b[0m\u001b[0m\n\u001b[1;32m    457\u001b[0m \u001b[0;34m\u001b[0m\u001b[0m\n",
            "\u001b[0;31mFileNotFoundError\u001b[0m: [Errno 2] No such file or directory: '../data/processed/x_train.npy'"
          ]
        }
      ]
    },
    {
      "cell_type": "markdown",
      "source": [
        "🔹 Definir rango de hiperparámetros"
      ],
      "metadata": {
        "id": "-xoV_4vHTnsH"
      }
    },
    {
      "cell_type": "code",
      "source": [
        "param_grid = {\n",
        "    'filters1': [32, 64],\n",
        "    'filters2': [64, 128],\n",
        "    'dense_units': [64, 128],\n",
        "    'dropout_rate': [0.0, 0.3],\n",
        "    'optimizer': ['adam', 'rmsprop'],\n",
        "    'batch_size': [32, 64]\n",
        "}\n"
      ],
      "metadata": {
        "id": "YydY_El7To8z"
      },
      "execution_count": null,
      "outputs": []
    },
    {
      "cell_type": "markdown",
      "source": [
        "🔹 Carpeta para guardar resultados"
      ],
      "metadata": {
        "id": "jLDLdvKvTqJg"
      }
    },
    {
      "cell_type": "code",
      "source": [
        "os.makedirs(\"../experiments\", exist_ok=True)"
      ],
      "metadata": {
        "id": "79QWLBIkTrkW"
      },
      "execution_count": null,
      "outputs": []
    },
    {
      "cell_type": "markdown",
      "source": [
        "🔹 Grid search manual"
      ],
      "metadata": {
        "id": "ICuMGo9FTueF"
      }
    },
    {
      "cell_type": "code",
      "source": [
        "results = []\n",
        "for params in ParameterGrid(param_grid):\n",
        "    print(\"Entrenando con parámetros:\", params)\n",
        "\n",
        "    model = Sequential([\n",
        "        Conv2D(params['filters1'], (3,3), activation='relu', padding='same', input_shape=(32,32,3)),\n",
        "        MaxPooling2D((2,2)),\n",
        "        Conv2D(params['filters2'], (3,3), activation='relu', padding='same'),\n",
        "        MaxPooling2D((2,2)),\n",
        "        Flatten(),\n",
        "        Dense(params['dense_units'], activation='relu'),\n",
        "        Dropout(params['dropout_rate']),\n",
        "        Dense(10, activation='softmax')\n",
        "    ])\n",
        "\n",
        "    model.compile(optimizer=params['optimizer'], loss='categorical_crossentropy', metrics=['accuracy'])\n",
        "\n",
        "    history = model.fit(x_train, y_train, validation_data=(x_test, y_test),\n",
        "                        epochs=10, batch_size=params['batch_size'], verbose=0)\n",
        "\n",
        "    best_val_acc = max(history.history['val_accuracy'])\n",
        "    results.append({**params, 'val_accuracy': float(best_val_acc)})\n",
        "    print(\"→ Mejor val_accuracy:\", best_val_acc)"
      ],
      "metadata": {
        "id": "zbkKTCPOTx7j"
      },
      "execution_count": null,
      "outputs": []
    },
    {
      "cell_type": "markdown",
      "source": [
        "🔹 Guardar resultados"
      ],
      "metadata": {
        "id": "j7P_jBP7TzWx"
      }
    },
    {
      "cell_type": "code",
      "source": [
        "with open(\"../experiments/hyperparam_trials.json\", \"w\") as f:\n",
        "    json.dump(results, f, indent=4)\n",
        "\n",
        "print(\"\\n✅ Búsqueda de hiperparámetros completada. Resultados guardados en 'experiments/hyperparam_trials.json'\")"
      ],
      "metadata": {
        "id": "iuO9vFldT05z"
      },
      "execution_count": null,
      "outputs": []
    }
  ]
}