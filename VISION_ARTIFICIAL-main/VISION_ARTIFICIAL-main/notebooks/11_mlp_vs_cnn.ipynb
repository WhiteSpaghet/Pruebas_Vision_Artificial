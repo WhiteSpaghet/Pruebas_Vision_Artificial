{
  "nbformat": 4,
  "nbformat_minor": 0,
  "metadata": {
    "colab": {
      "provenance": [],
      "gpuType": "T4",
      "authorship_tag": "ABX9TyM8t94VGMcfp4zTgJoMMnWH",
      "include_colab_link": true
    },
    "kernelspec": {
      "name": "python3",
      "display_name": "Python 3"
    },
    "language_info": {
      "name": "python"
    },
    "accelerator": "GPU"
  },
  "cells": [
    {
      "cell_type": "markdown",
      "metadata": {
        "id": "view-in-github",
        "colab_type": "text"
      },
      "source": [
        "<a href=\"https://colab.research.google.com/github/jhackisneros/VISION_ARTIFICIAL/blob/main/11_mlp_vs_cnn.ipynb\" target=\"_parent\"><img src=\"https://colab.research.google.com/assets/colab-badge.svg\" alt=\"Open In Colab\"/></a>"
      ]
    },
    {
      "cell_type": "markdown",
      "source": [
        "# VISION_ARTIFICIAL - Notebook 11: MLP vs CNN"
      ],
      "metadata": {
        "id": "s5_ENgvcXFpx"
      }
    },
    {
      "cell_type": "markdown",
      "source": [
        "🔹 Importar librerías"
      ],
      "metadata": {
        "id": "S0myx7JkXIIC"
      }
    },
    {
      "cell_type": "code",
      "source": [
        "import numpy as np\n",
        "import matplotlib.pyplot as plt\n",
        "from tensorflow.keras.models import Sequential, load_model\n",
        "from tensorflow.keras.layers import Dense, Flatten, Conv2D, MaxPooling2D\n",
        "from tensorflow.keras.optimizers import Adam\n",
        "from tensorflow.keras.datasets import cifar10\n",
        "from tensorflow.keras.utils import to_categorical\n",
        "from sklearn.metrics import confusion_matrix, ConfusionMatrixDisplay\n"
      ],
      "metadata": {
        "id": "QuhCbgtGXKau"
      },
      "execution_count": null,
      "outputs": []
    },
    {
      "cell_type": "markdown",
      "source": [
        "🔹 Cargar datos preprocesados"
      ],
      "metadata": {
        "id": "KQfmNUMGXL9I"
      }
    },
    {
      "cell_type": "code",
      "source": [
        "processed_dir = \"../data/processed/\"\n",
        "x_train = np.load(processed_dir + \"x_train.npy\")\n",
        "y_train = np.load(processed_dir + \"y_train.npy\")\n",
        "x_test  = np.load(processed_dir + \"x_test.npy\")\n",
        "y_test  = np.load(processed_dir + \"y_test.npy\")"
      ],
      "metadata": {
        "id": "AxFxys7lXNb2"
      },
      "execution_count": null,
      "outputs": []
    },
    {
      "cell_type": "markdown",
      "source": [
        "🔹 Aplanar imágenes para el MLP"
      ],
      "metadata": {
        "id": "Te-6mwsNXOqX"
      }
    },
    {
      "cell_type": "code",
      "source": [
        "x_train_flat = x_train.reshape(x_train.shape[0], -1)\n",
        "x_test_flat  = x_test.reshape(x_test.shape[0], -1)"
      ],
      "metadata": {
        "id": "lYadSCfbXQTG"
      },
      "execution_count": null,
      "outputs": []
    },
    {
      "cell_type": "markdown",
      "source": [
        "🔹 Construir MLP simple"
      ],
      "metadata": {
        "id": "OasvCjLqXTTq"
      }
    },
    {
      "cell_type": "code",
      "source": [
        "mlp = Sequential([\n",
        "    Dense(512, activation='relu', input_shape=(x_train_flat.shape[1],)),\n",
        "    Dense(256, activation='relu'),\n",
        "    Dense(10, activation='softmax')\n",
        "])\n",
        "\n",
        "mlp.compile(optimizer=Adam(), loss='categorical_crossentropy', metrics=['accuracy'])\n",
        "mlp_history = mlp.fit(x_train_flat, y_train, validation_data=(x_test_flat, y_test), epochs=20, batch_size=64)"
      ],
      "metadata": {
        "id": "bmQ2IZvwXYhl"
      },
      "execution_count": null,
      "outputs": []
    },
    {
      "cell_type": "markdown",
      "source": [
        "🔹 Construir CNN simple (para comparación)"
      ],
      "metadata": {
        "id": "MjrIoeA9Xamf"
      }
    },
    {
      "cell_type": "code",
      "source": [
        "cnn = Sequential([\n",
        "    Conv2D(32, (3,3), activation='relu', padding='same', input_shape=(32,32,3)),\n",
        "    MaxPooling2D((2,2)),\n",
        "    Conv2D(64, (3,3), activation='relu', padding='same'),\n",
        "    MaxPooling2D((2,2)),\n",
        "    Flatten(),\n",
        "    Dense(64, activation='relu'),\n",
        "    Dense(10, activation='softmax')\n",
        "])\n",
        "\n",
        "cnn.compile(optimizer=Adam(), loss='categorical_crossentropy', metrics=['accuracy'])\n",
        "cnn_history = cnn.fit(x_train, y_train, validation_data=(x_test, y_test), epochs=20, batch_size=64)"
      ],
      "metadata": {
        "id": "txXfGqvEXc1a"
      },
      "execution_count": null,
      "outputs": []
    },
    {
      "cell_type": "markdown",
      "source": [
        "🔹 Comparar curvas de aprendizaje"
      ],
      "metadata": {
        "id": "klkTU9zGXeeZ"
      }
    },
    {
      "cell_type": "code",
      "source": [
        "plt.figure(figsize=(12,5))"
      ],
      "metadata": {
        "id": "ICaxIMqzXfdx"
      },
      "execution_count": null,
      "outputs": []
    },
    {
      "cell_type": "markdown",
      "source": [
        "# Accuracy"
      ],
      "metadata": {
        "id": "K3MECzGxXhVu"
      }
    },
    {
      "cell_type": "code",
      "source": [
        "plt.subplot(1,2,1)\n",
        "plt.plot(mlp_history.history['val_accuracy'], label='MLP Val Accuracy')\n",
        "plt.plot(cnn_history.history['val_accuracy'], label='CNN Val Accuracy')\n",
        "plt.title(\"Comparativa de Accuracy\")\n",
        "plt.xlabel(\"Épocas\")\n",
        "plt.ylabel(\"Accuracy\")\n",
        "plt.legend()\n"
      ],
      "metadata": {
        "id": "pghtKld1XkH0"
      },
      "execution_count": null,
      "outputs": []
    },
    {
      "cell_type": "markdown",
      "source": [
        "# Loss"
      ],
      "metadata": {
        "id": "vH32USflXm0V"
      }
    },
    {
      "cell_type": "code",
      "source": [
        "plt.subplot(1,2,2)\n",
        "plt.plot(mlp_history.history['val_loss'], label='MLP Val Loss')\n",
        "plt.plot(cnn_history.history['val_loss'], label='CNN Val Loss')\n",
        "plt.title(\"Comparativa de Loss\")\n",
        "plt.xlabel(\"Épocas\")\n",
        "plt.ylabel(\"Loss\")\n",
        "plt.legend()\n",
        "\n",
        "plt.show()\n"
      ],
      "metadata": {
        "id": "EwuKUUkhXpJm"
      },
      "execution_count": null,
      "outputs": []
    },
    {
      "cell_type": "markdown",
      "source": [
        "🔹 Matriz de confusión de CNN"
      ],
      "metadata": {
        "id": "54pQPoNHXqYW"
      }
    },
    {
      "cell_type": "code",
      "source": [
        "y_pred_cnn = np.argmax(cnn.predict(x_test), axis=1)\n",
        "y_true = np.argmax(y_test, axis=1)\n",
        "cm = confusion_matrix(y_true, y_pred_cnn)\n",
        "disp = ConfusionMatrixDisplay(cm)\n",
        "disp.plot(cmap=plt.cm.Blues)\n",
        "plt.title(\"Confusion Matrix CNN\")\n",
        "plt.show()"
      ],
      "metadata": {
        "id": "KJ24qIsWXrUQ"
      },
      "execution_count": null,
      "outputs": []
    }
  ]
}