{
  "nbformat": 4,
  "nbformat_minor": 0,
  "metadata": {
    "colab": {
      "provenance": [],
      "gpuType": "T4",
      "authorship_tag": "ABX9TyMFDSoI0hlFfif2He474yWq",
      "include_colab_link": true
    },
    "kernelspec": {
      "name": "python3",
      "display_name": "Python 3"
    },
    "language_info": {
      "name": "python"
    },
    "accelerator": "GPU"
  },
  "cells": [
    {
      "cell_type": "markdown",
      "metadata": {
        "id": "view-in-github",
        "colab_type": "text"
      },
      "source": [
        "<a href=\"https://colab.research.google.com/github/jhackisneros/VISION_ARTIFICIAL/blob/main/12_explainability_gradcam.ipynb\" target=\"_parent\"><img src=\"https://colab.research.google.com/assets/colab-badge.svg\" alt=\"Open In Colab\"/></a>"
      ]
    },
    {
      "cell_type": "markdown",
      "source": [
        "# VISION_ARTIFICIAL - Notebook 12: Explainability con Grad-CAM"
      ],
      "metadata": {
        "id": "5IQsjk41Xxn0"
      }
    },
    {
      "cell_type": "markdown",
      "source": [
        "🔹 Importar librerías"
      ],
      "metadata": {
        "id": "RbfvwzpAXzTG"
      }
    },
    {
      "cell_type": "code",
      "source": [
        "import numpy as np\n",
        "import matplotlib.pyplot as plt\n",
        "import tensorflow as tf\n",
        "from tensorflow.keras.models import load_model\n",
        "from tensorflow.keras.preprocessing import image\n",
        "from tensorflow.keras.applications.vgg16 import preprocess_input\n",
        "import cv2\n",
        "import os\n"
      ],
      "metadata": {
        "id": "W1MEGBDkX00O"
      },
      "execution_count": null,
      "outputs": []
    },
    {
      "cell_type": "markdown",
      "source": [
        "🔹 Cargar modelo CNN entrenado"
      ],
      "metadata": {
        "id": "DZkTNElnX24l"
      }
    },
    {
      "cell_type": "code",
      "source": [
        "model_path = \"../models/cnn_best.keras\"\n",
        "model = load_model(model_path)\n",
        "model.summary()\n"
      ],
      "metadata": {
        "id": "F-WHfZJYX4Dj"
      },
      "execution_count": null,
      "outputs": []
    },
    {
      "cell_type": "markdown",
      "source": [
        "🔹 Cargar datos de test"
      ],
      "metadata": {
        "id": "1NA_mcTWX5-K"
      }
    },
    {
      "cell_type": "code",
      "source": [
        "processed_dir = \"../data/processed/\"\n",
        "x_test = np.load(os.path.join(processed_dir, \"x_test.npy\"))\n",
        "y_test = np.load(os.path.join(processed_dir, \"y_test.npy\"))"
      ],
      "metadata": {
        "id": "TcYT8S-2X7NK"
      },
      "execution_count": null,
      "outputs": []
    },
    {
      "cell_type": "markdown",
      "source": [
        "🔹 Función Grad-CAM"
      ],
      "metadata": {
        "id": "R7D-nTvLX80B"
      }
    },
    {
      "cell_type": "code",
      "source": [
        "def get_gradcam(img_array, model, layer_name):\n",
        "    grad_model = tf.keras.models.Model(\n",
        "        [model.inputs], [model.get_layer(layer_name).output, model.output]\n",
        "    )\n",
        "    with tf.GradientTape() as tape:\n",
        "        conv_outputs, predictions = grad_model(img_array)\n",
        "        class_idx = np.argmax(predictions[0])\n",
        "        loss = predictions[:, class_idx]\n",
        "\n",
        "    grads = tape.gradient(loss, conv_outputs)\n",
        "    pooled_grads = tf.reduce_mean(grads, axis=(0, 1, 2))\n",
        "    conv_outputs = conv_outputs[0]\n",
        "    heatmap = conv_outputs @ pooled_grads[..., tf.newaxis]\n",
        "    heatmap = tf.squeeze(heatmap)\n",
        "    heatmap = np.maximum(heatmap, 0) / (np.max(heatmap) + 1e-8)\n",
        "    return heatmap, class_idx\n"
      ],
      "metadata": {
        "id": "u6VcXp61X-39"
      },
      "execution_count": null,
      "outputs": []
    },
    {
      "cell_type": "markdown",
      "source": [
        "🔹 Mostrar Grad-CAM sobre imagen"
      ],
      "metadata": {
        "id": "5lLhJe1zYAtJ"
      }
    },
    {
      "cell_type": "code",
      "source": [
        "def display_gradcam(img, heatmap, alpha=0.4):\n",
        "    heatmap = cv2.resize(heatmap.numpy(), (img.shape[1], img.shape[0]))\n",
        "    heatmap = np.uint8(255 * heatmap)\n",
        "    heatmap = cv2.applyColorMap(heatmap, cv2.COLORMAP_JET)\n",
        "    superimposed_img = heatmap * alpha + np.uint8(img*255)\n",
        "    plt.imshow(superimposed_img.astype(np.uint8))\n",
        "    plt.axis('off')\n",
        "    plt.show()\n"
      ],
      "metadata": {
        "id": "6igSXlR0YCAC"
      },
      "execution_count": null,
      "outputs": []
    },
    {
      "cell_type": "markdown",
      "source": [
        "🔹 Elegir una imagen de prueba"
      ],
      "metadata": {
        "id": "wAG1zSsDYDYB"
      }
    },
    {
      "cell_type": "code",
      "source": [
        "img = x_test[0][np.newaxis, ...]\n",
        "heatmap, class_idx = get_gradcam(img, model, layer_name=\"conv2d_2\")\n",
        "print(f\"Predicción clase: {class_idx}\")\n",
        "display_gradcam(x_test[0], heatmap)"
      ],
      "metadata": {
        "id": "QHRxYxOwYEdy"
      },
      "execution_count": null,
      "outputs": []
    }
  ]
}